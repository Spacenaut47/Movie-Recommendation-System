{
  "cells": [
    {
      "cell_type": "markdown",
      "metadata": {
        "id": "view-in-github",
        "colab_type": "text"
      },
      "source": [
        "<a href=\"https://colab.research.google.com/github/Spacenaut47/Movie-Recommendation-System/blob/main/Movie_Recommendation_System.ipynb\" target=\"_parent\"><img src=\"https://colab.research.google.com/assets/colab-badge.svg\" alt=\"Open In Colab\"/></a>"
      ]
    },
    {
      "cell_type": "code",
      "execution_count": null,
      "metadata": {
        "id": "GOcVfMMANmLP"
      },
      "outputs": [],
      "source": [
        "!pip install gradio"
      ]
    },
    {
      "cell_type": "code",
      "execution_count": null,
      "metadata": {
        "id": "7YGSjRL_Nutk"
      },
      "outputs": [],
      "source": [
        "import gradio as gr\n",
        "import numpy as np\n",
        "import pandas as pd\n",
        "import difflib\n",
        "from sklearn.feature_extraction.text import TfidfVectorizer\n",
        "from sklearn.metrics.pairwise import cosine_similarity\n",
        "\n",
        "# Function to recommend similar movies\n",
        "def recommend_movies(movie_name):\n",
        "    # Loading the data from the CSV file to a pandas dataframe\n",
        "    movies_data = pd.read_csv('/content/movies.csv')\n",
        "\n",
        "    # Selecting the relevant features for recommendation\n",
        "    selected_features = ['genres', 'keywords', 'tagline', 'cast', 'director']\n",
        "\n",
        "    # Replacing the missing values or the null values with null string using for loop\n",
        "    for feature in selected_features:\n",
        "        movies_data[feature] = movies_data[feature].fillna('')\n",
        "\n",
        "    # Combining all the selected features\n",
        "    combined_features = movies_data['genres'] + ' ' + movies_data['keywords'] + ' ' + movies_data['tagline'] + ' ' + movies_data['cast'] + ' ' + movies_data['director']\n",
        "\n",
        "    # Converting the text data to feature vectors\n",
        "    vectorizer = TfidfVectorizer()\n",
        "    feature_vectors = vectorizer.fit_transform(combined_features)\n",
        "\n",
        "    # Similarity using cosine similarity algorithm\n",
        "    similarity = cosine_similarity(feature_vectors)\n",
        "\n",
        "    # Finding the close match for the movie name given by the user\n",
        "    find_close_match = difflib.get_close_matches(movie_name, movies_data['title'].tolist())\n",
        "    if len(find_close_match) > 0:\n",
        "        close_match = find_close_match[0]\n",
        "        # Finding the index of the movie with title\n",
        "        index_of_the_movie = movies_data[movies_data.title == close_match]['index'].values[0]\n",
        "        # Getting a list of similar movies\n",
        "        similarity_score = list(enumerate(similarity[index_of_the_movie]))\n",
        "        # Sorting the movies based on their similarity score\n",
        "        sorted_similar_movies = sorted(similarity_score, key=lambda x: x[1], reverse=True)\n",
        "        # Return the recommended movies as a list\n",
        "        recommended_movies = [movies_data[movies_data.index == movie[0]]['title'].values[0] for movie in sorted_similar_movies]\n",
        "        return \"\\n\".join(recommended_movies)\n",
        "    else:\n",
        "        return \"No close match found for the given movie.\"\n",
        "\n",
        "# Create the Gradio interface\n",
        "iface = gr.Interface(fn=recommend_movies, inputs=\"text\", outputs=\"text\", title=\"Movie Recommendation System\")\n",
        "iface.launch(share=True,debug=True)\n"
      ]
    }
  ],
  "metadata": {
    "colab": {
      "provenance": [],
      "authorship_tag": "ABX9TyPlpPuFoBmXvGMSxbxM2F2u",
      "include_colab_link": true
    },
    "kernelspec": {
      "display_name": "Python 3",
      "name": "python3"
    },
    "language_info": {
      "name": "python"
    }
  },
  "nbformat": 4,
  "nbformat_minor": 0
}